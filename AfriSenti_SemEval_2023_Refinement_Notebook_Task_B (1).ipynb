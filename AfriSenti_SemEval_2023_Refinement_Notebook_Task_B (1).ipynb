{
  "cells": [
    {
      "cell_type": "markdown",
      "metadata": {
        "id": "AEkdLm_JF84s"
      },
      "source": [
        "<center>\n",
        "<img src=\"https://raw.githubusercontent.com/afrisenti-semeval/afrisent-semeval-2023/main/afrisenti-logo.png\" width=\"30%\" />\n",
        "</center>"
      ]
    },
    {
      "cell_type": "markdown",
      "metadata": {
        "id": "pXY0zNpmLM1Z"
      },
      "source": [
        "<center>\n",
        "\n",
        "#SemEval 2023 Shared Task 12: AfriSenti (Task B)\n",
        "\n",
        "## Notebook\n",
        "\n",
        "</center>"
      ]
    },
    {
      "cell_type": "markdown",
      "metadata": {
        "id": "jURfhK3zGM9x"
      },
      "source": [
        "**Authors:**\n",
        "[Idris Abdulmumin](https://www.hausanlp.org/author/idris-abdulmuminu/), [David Adelani](https://dadelani.github.io/) and [Shamsuddeen Hassan Muhammad](https://www.hausanlp.org/author/shamsuddeen-hassan-muhammad/).\n",
        "\n",
        "**Introduction:**\n",
        "\n",
        "You are welcome to participate in our first-of-its-kind SemEval Shared Task!\n",
        "\n",
        "In this notebook, we will take you through the process of fine-tuning a pre-trained language model on a sample data to build a sentiment classifier. The notebook was adapted from a [Hugginface implementation]( https://github.com/huggingface/transformers/blob/main/examples/pytorch/text-classification/run_xnli.py) for such tasks.\n",
        "\n",
        "**Languages (Tracks)**\n",
        "* Track 1: Hausa\n",
        "* Track 2: Yoruba\n",
        "* Track 3: Igbo\n",
        "* Track 4: Nigerian_Pidgin\n",
        "* Track 5: Amharic\n",
        "* Track 6: Algerian Arabic\n",
        "* Track 7: Moroccan Arabic/Darija,\n",
        "* Track 8: Swahili\n",
        "* Track 9: Kinyarwanda (data to be released soon)\n",
        "* Track 10: Twi (data to be released soon)\n",
        "* Track 11: Mozambican Portuguese\n",
        "* Track 12: Setswana (data to be released soon)\n",
        "* Track 13: isiZulu (data to be released soon)\n",
        "\n",
        "\n"
      ]
    },
    {
      "cell_type": "markdown",
      "metadata": {
        "id": "V4BB4JDx5W8d"
      },
      "source": [
        "#1) Installations and imports"
      ]
    },
    {
      "cell_type": "markdown",
      "metadata": {
        "id": "DObkW3ulM7yg"
      },
      "source": [
        "##a. Mount drive (if you are running on colab)"
      ]
    },
    {
      "cell_type": "code",
      "execution_count": null,
      "metadata": {
        "id": "Z0IelbK7NBZZ"
      },
      "outputs": [],
      "source": [
        "from google.colab import drive\n",
        "drive.mount('/content/drive')"
      ]
    },
    {
      "cell_type": "markdown",
      "metadata": {
        "id": "U-OZxUWIMqtq"
      },
      "source": [
        "##b. Clone or update competition repository\n",
        "\n",
        "After cloning, under MyDrive, you will see afrisenti-semeval-2023 folder with all the the data for the afrisenti shared task (training and dev)"
      ]
    },
    {
      "cell_type": "code",
      "execution_count": null,
      "metadata": {
        "id": "2392TKadMvqT",
        "colab": {
          "base_uri": "https://localhost:8080/"
        },
        "outputId": "0f0c8123-8a46-42bd-87cc-63243814241a"
      },
      "outputs": [
        {
          "output_type": "stream",
          "name": "stdout",
          "text": [
            "/content\n",
            "fatal: destination path 'AfriSenti-SemEval-2023' already exists and is not an empty directory.\n",
            "/content/afrisent-semeval-2023\n",
            "From https://github.com/afrisenti-semeval/afrisent-semeval-2023\n",
            " * branch            HEAD       -> FETCH_HEAD\n",
            "Already up to date.\n"
          ]
        }
      ],
      "source": [
        "%cd /content\n",
        "!git clone https://github.com/egilron/AfriSenti-SemEval-2023.git\n",
        "import os\n",
        "\n",
        "PROJECT_DIR = '/content/afrisent-semeval-2023'\n",
        "PROJECT_GITHUB_URL = 'https://github.com/afrisenti-semeval/afrisent-semeval-2023.git'\n",
        "\n",
        "if not os.path.isdir(PROJECT_DIR):\n",
        "  !git clone {PROJECT_GITHUB_URL}\n",
        "else:\n",
        "  %cd {PROJECT_DIR}\n",
        "  !git pull {PROJECT_GITHUB_URL}"
      ]
    },
    {
      "cell_type": "markdown",
      "metadata": {
        "id": "Xb03Gp9fUN8C"
      },
      "source": [
        "##c. Install required libraries\n",
        "\n",
        "- Set the project dire\n",
        "ctory in the cell below, where the requirements file should also be located, and run the cell"
      ]
    },
    {
      "cell_type": "code",
      "execution_count": null,
      "metadata": {
        "id": "4Cbmi_mQ4k3a",
        "colab": {
          "base_uri": "https://localhost:8080/"
        },
        "outputId": "30291b7f-e50e-4a0b-8d75-57d79f0e6a5f"
      },
      "outputs": [
        {
          "output_type": "stream",
          "name": "stdout",
          "text": [
            "Requirement already satisfied: pandas in /usr/local/lib/python3.10/dist-packages (from -r /content/afrisent-semeval-2023/starter_kit/requirements.txt (line 1)) (1.5.3)\n",
            "Requirement already satisfied: numpy in /usr/local/lib/python3.10/dist-packages (from -r /content/afrisent-semeval-2023/starter_kit/requirements.txt (line 2)) (1.23.5)\n",
            "Collecting transformers (from -r /content/afrisent-semeval-2023/starter_kit/requirements.txt (line 3))\n",
            "  Downloading transformers-4.34.1-py3-none-any.whl (7.7 MB)\n",
            "\u001b[2K     \u001b[90m━━━━━━━━━━━━━━━━━━━━━━━━━━━━━━━━━━━━━━━━\u001b[0m \u001b[32m7.7/7.7 MB\u001b[0m \u001b[31m20.3 MB/s\u001b[0m eta \u001b[36m0:00:00\u001b[0m\n",
            "\u001b[?25hRequirement already satisfied: torch>=1.3 in /usr/local/lib/python3.10/dist-packages (from -r /content/afrisent-semeval-2023/starter_kit/requirements.txt (line 4)) (2.1.0+cu118)\n",
            "Requirement already satisfied: scipy in /usr/local/lib/python3.10/dist-packages (from -r /content/afrisent-semeval-2023/starter_kit/requirements.txt (line 5)) (1.11.3)\n",
            "Requirement already satisfied: protobuf in /usr/local/lib/python3.10/dist-packages (from -r /content/afrisent-semeval-2023/starter_kit/requirements.txt (line 6)) (3.20.3)\n",
            "Requirement already satisfied: scikit-learn in /usr/local/lib/python3.10/dist-packages (from -r /content/afrisent-semeval-2023/starter_kit/requirements.txt (line 7)) (1.2.2)\n",
            "Collecting accelerate (from -r /content/afrisent-semeval-2023/starter_kit/requirements.txt (line 8))\n",
            "  Downloading accelerate-0.24.0-py3-none-any.whl (260 kB)\n",
            "\u001b[2K     \u001b[90m━━━━━━━━━━━━━━━━━━━━━━━━━━━━━━━━━━━━━━━━\u001b[0m \u001b[32m261.0/261.0 kB\u001b[0m \u001b[31m30.0 MB/s\u001b[0m eta \u001b[36m0:00:00\u001b[0m\n",
            "\u001b[?25hCollecting sentencepiece!=0.1.92 (from -r /content/afrisent-semeval-2023/starter_kit/requirements.txt (line 9))\n",
            "  Downloading sentencepiece-0.1.99-cp310-cp310-manylinux_2_17_x86_64.manylinux2014_x86_64.whl (1.3 MB)\n",
            "\u001b[2K     \u001b[90m━━━━━━━━━━━━━━━━━━━━━━━━━━━━━━━━━━━━━━━━\u001b[0m \u001b[32m1.3/1.3 MB\u001b[0m \u001b[31m43.5 MB/s\u001b[0m eta \u001b[36m0:00:00\u001b[0m\n",
            "\u001b[?25hCollecting datasets>=1.8.0 (from -r /content/afrisent-semeval-2023/starter_kit/requirements.txt (line 10))\n",
            "  Downloading datasets-2.14.6-py3-none-any.whl (493 kB)\n",
            "\u001b[2K     \u001b[90m━━━━━━━━━━━━━━━━━━━━━━━━━━━━━━━━━━━━━━━━\u001b[0m \u001b[32m493.7/493.7 kB\u001b[0m \u001b[31m46.2 MB/s\u001b[0m eta \u001b[36m0:00:00\u001b[0m\n",
            "\u001b[?25hCollecting evaluate (from -r /content/afrisent-semeval-2023/starter_kit/requirements.txt (line 11))\n",
            "  Downloading evaluate-0.4.1-py3-none-any.whl (84 kB)\n",
            "\u001b[2K     \u001b[90m━━━━━━━━━━━━━━━━━━━━━━━━━━━━━━━━━━━━━━━━\u001b[0m \u001b[32m84.1/84.1 kB\u001b[0m \u001b[31m10.9 MB/s\u001b[0m eta \u001b[36m0:00:00\u001b[0m\n",
            "\u001b[?25hRequirement already satisfied: python-dateutil>=2.8.1 in /usr/local/lib/python3.10/dist-packages (from pandas->-r /content/afrisent-semeval-2023/starter_kit/requirements.txt (line 1)) (2.8.2)\n",
            "Requirement already satisfied: pytz>=2020.1 in /usr/local/lib/python3.10/dist-packages (from pandas->-r /content/afrisent-semeval-2023/starter_kit/requirements.txt (line 1)) (2023.3.post1)\n",
            "Requirement already satisfied: filelock in /usr/local/lib/python3.10/dist-packages (from transformers->-r /content/afrisent-semeval-2023/starter_kit/requirements.txt (line 3)) (3.12.4)\n",
            "Collecting huggingface-hub<1.0,>=0.16.4 (from transformers->-r /content/afrisent-semeval-2023/starter_kit/requirements.txt (line 3))\n",
            "  Downloading huggingface_hub-0.18.0-py3-none-any.whl (301 kB)\n",
            "\u001b[2K     \u001b[90m━━━━━━━━━━━━━━━━━━━━━━━━━━━━━━━━━━━━━━━━\u001b[0m \u001b[32m302.0/302.0 kB\u001b[0m \u001b[31m39.3 MB/s\u001b[0m eta \u001b[36m0:00:00\u001b[0m\n",
            "\u001b[?25hRequirement already satisfied: packaging>=20.0 in /usr/local/lib/python3.10/dist-packages (from transformers->-r /content/afrisent-semeval-2023/starter_kit/requirements.txt (line 3)) (23.2)\n",
            "Requirement already satisfied: pyyaml>=5.1 in /usr/local/lib/python3.10/dist-packages (from transformers->-r /content/afrisent-semeval-2023/starter_kit/requirements.txt (line 3)) (6.0.1)\n",
            "Requirement already satisfied: regex!=2019.12.17 in /usr/local/lib/python3.10/dist-packages (from transformers->-r /content/afrisent-semeval-2023/starter_kit/requirements.txt (line 3)) (2023.6.3)\n",
            "Requirement already satisfied: requests in /usr/local/lib/python3.10/dist-packages (from transformers->-r /content/afrisent-semeval-2023/starter_kit/requirements.txt (line 3)) (2.31.0)\n",
            "Collecting tokenizers<0.15,>=0.14 (from transformers->-r /content/afrisent-semeval-2023/starter_kit/requirements.txt (line 3))\n",
            "  Downloading tokenizers-0.14.1-cp310-cp310-manylinux_2_17_x86_64.manylinux2014_x86_64.whl (3.8 MB)\n",
            "\u001b[2K     \u001b[90m━━━━━━━━━━━━━━━━━━━━━━━━━━━━━━━━━━━━━━━━\u001b[0m \u001b[32m3.8/3.8 MB\u001b[0m \u001b[31m61.9 MB/s\u001b[0m eta \u001b[36m0:00:00\u001b[0m\n",
            "\u001b[?25hCollecting safetensors>=0.3.1 (from transformers->-r /content/afrisent-semeval-2023/starter_kit/requirements.txt (line 3))\n",
            "  Downloading safetensors-0.4.0-cp310-cp310-manylinux_2_17_x86_64.manylinux2014_x86_64.whl (1.3 MB)\n",
            "\u001b[2K     \u001b[90m━━━━━━━━━━━━━━━━━━━━━━━━━━━━━━━━━━━━━━━━\u001b[0m \u001b[32m1.3/1.3 MB\u001b[0m \u001b[31m60.5 MB/s\u001b[0m eta \u001b[36m0:00:00\u001b[0m\n",
            "\u001b[?25hRequirement already satisfied: tqdm>=4.27 in /usr/local/lib/python3.10/dist-packages (from transformers->-r /content/afrisent-semeval-2023/starter_kit/requirements.txt (line 3)) (4.66.1)\n",
            "Requirement already satisfied: typing-extensions in /usr/local/lib/python3.10/dist-packages (from torch>=1.3->-r /content/afrisent-semeval-2023/starter_kit/requirements.txt (line 4)) (4.5.0)\n",
            "Requirement already satisfied: sympy in /usr/local/lib/python3.10/dist-packages (from torch>=1.3->-r /content/afrisent-semeval-2023/starter_kit/requirements.txt (line 4)) (1.12)\n",
            "Requirement already satisfied: networkx in /usr/local/lib/python3.10/dist-packages (from torch>=1.3->-r /content/afrisent-semeval-2023/starter_kit/requirements.txt (line 4)) (3.2)\n",
            "Requirement already satisfied: jinja2 in /usr/local/lib/python3.10/dist-packages (from torch>=1.3->-r /content/afrisent-semeval-2023/starter_kit/requirements.txt (line 4)) (3.1.2)\n",
            "Requirement already satisfied: fsspec in /usr/local/lib/python3.10/dist-packages (from torch>=1.3->-r /content/afrisent-semeval-2023/starter_kit/requirements.txt (line 4)) (2023.6.0)\n",
            "Requirement already satisfied: triton==2.1.0 in /usr/local/lib/python3.10/dist-packages (from torch>=1.3->-r /content/afrisent-semeval-2023/starter_kit/requirements.txt (line 4)) (2.1.0)\n",
            "Requirement already satisfied: joblib>=1.1.1 in /usr/local/lib/python3.10/dist-packages (from scikit-learn->-r /content/afrisent-semeval-2023/starter_kit/requirements.txt (line 7)) (1.3.2)\n",
            "Requirement already satisfied: threadpoolctl>=2.0.0 in /usr/local/lib/python3.10/dist-packages (from scikit-learn->-r /content/afrisent-semeval-2023/starter_kit/requirements.txt (line 7)) (3.2.0)\n",
            "Requirement already satisfied: psutil in /usr/local/lib/python3.10/dist-packages (from accelerate->-r /content/afrisent-semeval-2023/starter_kit/requirements.txt (line 8)) (5.9.5)\n",
            "Requirement already satisfied: pyarrow>=8.0.0 in /usr/local/lib/python3.10/dist-packages (from datasets>=1.8.0->-r /content/afrisent-semeval-2023/starter_kit/requirements.txt (line 10)) (9.0.0)\n",
            "Collecting dill<0.3.8,>=0.3.0 (from datasets>=1.8.0->-r /content/afrisent-semeval-2023/starter_kit/requirements.txt (line 10))\n",
            "  Downloading dill-0.3.7-py3-none-any.whl (115 kB)\n",
            "\u001b[2K     \u001b[90m━━━━━━━━━━━━━━━━━━━━━━━━━━━━━━━━━━━━━━━━\u001b[0m \u001b[32m115.3/115.3 kB\u001b[0m \u001b[31m17.7 MB/s\u001b[0m eta \u001b[36m0:00:00\u001b[0m\n",
            "\u001b[?25hRequirement already satisfied: xxhash in /usr/local/lib/python3.10/dist-packages (from datasets>=1.8.0->-r /content/afrisent-semeval-2023/starter_kit/requirements.txt (line 10)) (3.4.1)\n",
            "Collecting multiprocess (from datasets>=1.8.0->-r /content/afrisent-semeval-2023/starter_kit/requirements.txt (line 10))\n",
            "  Downloading multiprocess-0.70.15-py310-none-any.whl (134 kB)\n",
            "\u001b[2K     \u001b[90m━━━━━━━━━━━━━━━━━━━━━━━━━━━━━━━━━━━━━━━━\u001b[0m \u001b[32m134.8/134.8 kB\u001b[0m \u001b[31m21.8 MB/s\u001b[0m eta \u001b[36m0:00:00\u001b[0m\n",
            "\u001b[?25hRequirement already satisfied: aiohttp in /usr/local/lib/python3.10/dist-packages (from datasets>=1.8.0->-r /content/afrisent-semeval-2023/starter_kit/requirements.txt (line 10)) (3.8.6)\n",
            "Collecting responses<0.19 (from evaluate->-r /content/afrisent-semeval-2023/starter_kit/requirements.txt (line 11))\n",
            "  Downloading responses-0.18.0-py3-none-any.whl (38 kB)\n",
            "Requirement already satisfied: attrs>=17.3.0 in /usr/local/lib/python3.10/dist-packages (from aiohttp->datasets>=1.8.0->-r /content/afrisent-semeval-2023/starter_kit/requirements.txt (line 10)) (23.1.0)\n",
            "Requirement already satisfied: charset-normalizer<4.0,>=2.0 in /usr/local/lib/python3.10/dist-packages (from aiohttp->datasets>=1.8.0->-r /content/afrisent-semeval-2023/starter_kit/requirements.txt (line 10)) (3.3.0)\n",
            "Requirement already satisfied: multidict<7.0,>=4.5 in /usr/local/lib/python3.10/dist-packages (from aiohttp->datasets>=1.8.0->-r /content/afrisent-semeval-2023/starter_kit/requirements.txt (line 10)) (6.0.4)\n",
            "Requirement already satisfied: async-timeout<5.0,>=4.0.0a3 in /usr/local/lib/python3.10/dist-packages (from aiohttp->datasets>=1.8.0->-r /content/afrisent-semeval-2023/starter_kit/requirements.txt (line 10)) (4.0.3)\n",
            "Requirement already satisfied: yarl<2.0,>=1.0 in /usr/local/lib/python3.10/dist-packages (from aiohttp->datasets>=1.8.0->-r /content/afrisent-semeval-2023/starter_kit/requirements.txt (line 10)) (1.9.2)\n",
            "Requirement already satisfied: frozenlist>=1.1.1 in /usr/local/lib/python3.10/dist-packages (from aiohttp->datasets>=1.8.0->-r /content/afrisent-semeval-2023/starter_kit/requirements.txt (line 10)) (1.4.0)\n",
            "Requirement already satisfied: aiosignal>=1.1.2 in /usr/local/lib/python3.10/dist-packages (from aiohttp->datasets>=1.8.0->-r /content/afrisent-semeval-2023/starter_kit/requirements.txt (line 10)) (1.3.1)\n",
            "Requirement already satisfied: six>=1.5 in /usr/local/lib/python3.10/dist-packages (from python-dateutil>=2.8.1->pandas->-r /content/afrisent-semeval-2023/starter_kit/requirements.txt (line 1)) (1.16.0)\n",
            "Requirement already satisfied: idna<4,>=2.5 in /usr/local/lib/python3.10/dist-packages (from requests->transformers->-r /content/afrisent-semeval-2023/starter_kit/requirements.txt (line 3)) (3.4)\n",
            "Requirement already satisfied: urllib3<3,>=1.21.1 in /usr/local/lib/python3.10/dist-packages (from requests->transformers->-r /content/afrisent-semeval-2023/starter_kit/requirements.txt (line 3)) (2.0.7)\n",
            "Requirement already satisfied: certifi>=2017.4.17 in /usr/local/lib/python3.10/dist-packages (from requests->transformers->-r /content/afrisent-semeval-2023/starter_kit/requirements.txt (line 3)) (2023.7.22)\n",
            "Collecting huggingface-hub<1.0,>=0.16.4 (from transformers->-r /content/afrisent-semeval-2023/starter_kit/requirements.txt (line 3))\n",
            "  Downloading huggingface_hub-0.17.3-py3-none-any.whl (295 kB)\n",
            "\u001b[2K     \u001b[90m━━━━━━━━━━━━━━━━━━━━━━━━━━━━━━━━━━━━━━━━\u001b[0m \u001b[32m295.0/295.0 kB\u001b[0m \u001b[31m36.7 MB/s\u001b[0m eta \u001b[36m0:00:00\u001b[0m\n",
            "\u001b[?25hRequirement already satisfied: MarkupSafe>=2.0 in /usr/local/lib/python3.10/dist-packages (from jinja2->torch>=1.3->-r /content/afrisent-semeval-2023/starter_kit/requirements.txt (line 4)) (2.1.3)\n",
            "Requirement already satisfied: mpmath>=0.19 in /usr/local/lib/python3.10/dist-packages (from sympy->torch>=1.3->-r /content/afrisent-semeval-2023/starter_kit/requirements.txt (line 4)) (1.3.0)\n",
            "Installing collected packages: sentencepiece, safetensors, dill, responses, multiprocess, huggingface-hub, tokenizers, accelerate, transformers, datasets, evaluate\n",
            "Successfully installed accelerate-0.24.0 datasets-2.14.6 dill-0.3.7 evaluate-0.4.1 huggingface-hub-0.17.3 multiprocess-0.70.15 responses-0.18.0 safetensors-0.4.0 sentencepiece-0.1.99 tokenizers-0.14.1 transformers-4.34.1\n"
          ]
        }
      ],
      "source": [
        "if os.path.isdir(PROJECT_DIR):\n",
        "  #The requirements file should be in PROJECT_DIR\n",
        "  if os.path.isfile(os.path.join(PROJECT_DIR, 'starter_kit/requirements.txt')):\n",
        "    !pip install -r /content/afrisent-semeval-2023/starter_kit/requirements.txt\n",
        "  else:\n",
        "    print('requirements.txt file not found')\n",
        "\n",
        "else:\n",
        "  print(\"Project directory not found, please check again.\")"
      ]
    },
    {
      "cell_type": "markdown",
      "metadata": {
        "id": "2zszKhh2Ufb3"
      },
      "source": [
        "##d. Import libraries\n",
        "\n",
        "Import libraries below"
      ]
    },
    {
      "cell_type": "code",
      "execution_count": null,
      "metadata": {
        "id": "8QIl420aUM1O"
      },
      "outputs": [],
      "source": [
        "import pandas as pd\n",
        "import numpy as np\n",
        "languages = ['dz', 'ha', 'twi', 'pcm', 'sw']"
      ]
    },
    {
      "cell_type": "code",
      "source": [
        "cd /content/AfriSenti-SemEval-2023"
      ],
      "metadata": {
        "id": "tRMjRWgCs1vL",
        "colab": {
          "base_uri": "https://localhost:8080/"
        },
        "outputId": "3a8f3797-c3a5-4db0-99e4-8763e8731ac6"
      },
      "execution_count": null,
      "outputs": [
        {
          "output_type": "stream",
          "name": "stdout",
          "text": [
            "/content/AfriSenti-SemEval-2023\n"
          ]
        }
      ]
    },
    {
      "cell_type": "code",
      "source": [
        "!pip install --upgrade pip\n",
        "!pip install sentencepiece\n",
        "!pip install datasets\n",
        "!pip install transformers\n"
      ],
      "metadata": {
        "id": "zHiM43t2tfMn",
        "colab": {
          "base_uri": "https://localhost:8080/"
        },
        "outputId": "b2889d1a-95da-4e6f-c44d-128384afb306"
      },
      "execution_count": null,
      "outputs": [
        {
          "output_type": "stream",
          "name": "stdout",
          "text": [
            "Requirement already satisfied: pip in /usr/local/lib/python3.10/dist-packages (23.1.2)\n",
            "Collecting pip\n",
            "  Downloading pip-23.3.1-py3-none-any.whl (2.1 MB)\n",
            "\u001b[2K     \u001b[90m━━━━━━━━━━━━━━━━━━━━━━━━━━━━━━━━━━━━━━━━\u001b[0m \u001b[32m2.1/2.1 MB\u001b[0m \u001b[31m13.0 MB/s\u001b[0m eta \u001b[36m0:00:00\u001b[0m\n",
            "\u001b[?25hInstalling collected packages: pip\n",
            "  Attempting uninstall: pip\n",
            "    Found existing installation: pip 23.1.2\n",
            "    Uninstalling pip-23.1.2:\n",
            "      Successfully uninstalled pip-23.1.2\n",
            "Successfully installed pip-23.3.1\n",
            "Requirement already satisfied: sentencepiece in /usr/local/lib/python3.10/dist-packages (0.1.99)\n",
            "\u001b[33mWARNING: Running pip as the 'root' user can result in broken permissions and conflicting behaviour with the system package manager. It is recommended to use a virtual environment instead: https://pip.pypa.io/warnings/venv\u001b[0m\u001b[33m\n",
            "\u001b[0mRequirement already satisfied: datasets in /usr/local/lib/python3.10/dist-packages (2.14.6)\n",
            "Requirement already satisfied: numpy>=1.17 in /usr/local/lib/python3.10/dist-packages (from datasets) (1.23.5)\n",
            "Requirement already satisfied: pyarrow>=8.0.0 in /usr/local/lib/python3.10/dist-packages (from datasets) (9.0.0)\n",
            "Requirement already satisfied: dill<0.3.8,>=0.3.0 in /usr/local/lib/python3.10/dist-packages (from datasets) (0.3.7)\n",
            "Requirement already satisfied: pandas in /usr/local/lib/python3.10/dist-packages (from datasets) (1.5.3)\n",
            "Requirement already satisfied: requests>=2.19.0 in /usr/local/lib/python3.10/dist-packages (from datasets) (2.31.0)\n",
            "Requirement already satisfied: tqdm>=4.62.1 in /usr/local/lib/python3.10/dist-packages (from datasets) (4.66.1)\n",
            "Requirement already satisfied: xxhash in /usr/local/lib/python3.10/dist-packages (from datasets) (3.4.1)\n",
            "Requirement already satisfied: multiprocess in /usr/local/lib/python3.10/dist-packages (from datasets) (0.70.15)\n",
            "Requirement already satisfied: fsspec<=2023.10.0,>=2023.1.0 in /usr/local/lib/python3.10/dist-packages (from fsspec[http]<=2023.10.0,>=2023.1.0->datasets) (2023.6.0)\n",
            "Requirement already satisfied: aiohttp in /usr/local/lib/python3.10/dist-packages (from datasets) (3.8.6)\n",
            "Requirement already satisfied: huggingface-hub<1.0.0,>=0.14.0 in /usr/local/lib/python3.10/dist-packages (from datasets) (0.17.3)\n",
            "Requirement already satisfied: packaging in /usr/local/lib/python3.10/dist-packages (from datasets) (23.2)\n",
            "Requirement already satisfied: pyyaml>=5.1 in /usr/local/lib/python3.10/dist-packages (from datasets) (6.0.1)\n",
            "Requirement already satisfied: attrs>=17.3.0 in /usr/local/lib/python3.10/dist-packages (from aiohttp->datasets) (23.1.0)\n",
            "Requirement already satisfied: charset-normalizer<4.0,>=2.0 in /usr/local/lib/python3.10/dist-packages (from aiohttp->datasets) (3.3.0)\n",
            "Requirement already satisfied: multidict<7.0,>=4.5 in /usr/local/lib/python3.10/dist-packages (from aiohttp->datasets) (6.0.4)\n",
            "Requirement already satisfied: async-timeout<5.0,>=4.0.0a3 in /usr/local/lib/python3.10/dist-packages (from aiohttp->datasets) (4.0.3)\n",
            "Requirement already satisfied: yarl<2.0,>=1.0 in /usr/local/lib/python3.10/dist-packages (from aiohttp->datasets) (1.9.2)\n",
            "Requirement already satisfied: frozenlist>=1.1.1 in /usr/local/lib/python3.10/dist-packages (from aiohttp->datasets) (1.4.0)\n",
            "Requirement already satisfied: aiosignal>=1.1.2 in /usr/local/lib/python3.10/dist-packages (from aiohttp->datasets) (1.3.1)\n",
            "Requirement already satisfied: filelock in /usr/local/lib/python3.10/dist-packages (from huggingface-hub<1.0.0,>=0.14.0->datasets) (3.12.4)\n",
            "Requirement already satisfied: typing-extensions>=3.7.4.3 in /usr/local/lib/python3.10/dist-packages (from huggingface-hub<1.0.0,>=0.14.0->datasets) (4.5.0)\n",
            "Requirement already satisfied: idna<4,>=2.5 in /usr/local/lib/python3.10/dist-packages (from requests>=2.19.0->datasets) (3.4)\n",
            "Requirement already satisfied: urllib3<3,>=1.21.1 in /usr/local/lib/python3.10/dist-packages (from requests>=2.19.0->datasets) (2.0.7)\n",
            "Requirement already satisfied: certifi>=2017.4.17 in /usr/local/lib/python3.10/dist-packages (from requests>=2.19.0->datasets) (2023.7.22)\n",
            "Requirement already satisfied: python-dateutil>=2.8.1 in /usr/local/lib/python3.10/dist-packages (from pandas->datasets) (2.8.2)\n",
            "Requirement already satisfied: pytz>=2020.1 in /usr/local/lib/python3.10/dist-packages (from pandas->datasets) (2023.3.post1)\n",
            "Requirement already satisfied: six>=1.5 in /usr/local/lib/python3.10/dist-packages (from python-dateutil>=2.8.1->pandas->datasets) (1.16.0)\n",
            "\u001b[33mWARNING: Running pip as the 'root' user can result in broken permissions and conflicting behaviour with the system package manager. It is recommended to use a virtual environment instead: https://pip.pypa.io/warnings/venv\u001b[0m\u001b[33m\n",
            "\u001b[0mRequirement already satisfied: transformers in /usr/local/lib/python3.10/dist-packages (4.34.1)\n",
            "Requirement already satisfied: filelock in /usr/local/lib/python3.10/dist-packages (from transformers) (3.12.4)\n",
            "Requirement already satisfied: huggingface-hub<1.0,>=0.16.4 in /usr/local/lib/python3.10/dist-packages (from transformers) (0.17.3)\n",
            "Requirement already satisfied: numpy>=1.17 in /usr/local/lib/python3.10/dist-packages (from transformers) (1.23.5)\n",
            "Requirement already satisfied: packaging>=20.0 in /usr/local/lib/python3.10/dist-packages (from transformers) (23.2)\n",
            "Requirement already satisfied: pyyaml>=5.1 in /usr/local/lib/python3.10/dist-packages (from transformers) (6.0.1)\n",
            "Requirement already satisfied: regex!=2019.12.17 in /usr/local/lib/python3.10/dist-packages (from transformers) (2023.6.3)\n",
            "Requirement already satisfied: requests in /usr/local/lib/python3.10/dist-packages (from transformers) (2.31.0)\n",
            "Requirement already satisfied: tokenizers<0.15,>=0.14 in /usr/local/lib/python3.10/dist-packages (from transformers) (0.14.1)\n",
            "Requirement already satisfied: safetensors>=0.3.1 in /usr/local/lib/python3.10/dist-packages (from transformers) (0.4.0)\n",
            "Requirement already satisfied: tqdm>=4.27 in /usr/local/lib/python3.10/dist-packages (from transformers) (4.66.1)\n",
            "Requirement already satisfied: fsspec in /usr/local/lib/python3.10/dist-packages (from huggingface-hub<1.0,>=0.16.4->transformers) (2023.6.0)\n",
            "Requirement already satisfied: typing-extensions>=3.7.4.3 in /usr/local/lib/python3.10/dist-packages (from huggingface-hub<1.0,>=0.16.4->transformers) (4.5.0)\n",
            "Requirement already satisfied: charset-normalizer<4,>=2 in /usr/local/lib/python3.10/dist-packages (from requests->transformers) (3.3.0)\n",
            "Requirement already satisfied: idna<4,>=2.5 in /usr/local/lib/python3.10/dist-packages (from requests->transformers) (3.4)\n",
            "Requirement already satisfied: urllib3<3,>=1.21.1 in /usr/local/lib/python3.10/dist-packages (from requests->transformers) (2.0.7)\n",
            "Requirement already satisfied: certifi>=2017.4.17 in /usr/local/lib/python3.10/dist-packages (from requests->transformers) (2023.7.22)\n",
            "\u001b[33mWARNING: Running pip as the 'root' user can result in broken permissions and conflicting behaviour with the system package manager. It is recommended to use a virtual environment instead: https://pip.pypa.io/warnings/venv\u001b[0m\u001b[33m\n",
            "\u001b[0m"
          ]
        }
      ]
    },
    {
      "cell_type": "code",
      "source": [
        "!python xlmt_finetuning3.py"
      ],
      "metadata": {
        "id": "fpBOVcOmtFx_",
        "outputId": "aaa447ad-df55-4291-e0e4-76a9f85b7498",
        "colab": {
          "base_uri": "https://localhost:8080/"
        }
      },
      "execution_count": null,
      "outputs": [
        {
          "output_type": "stream",
          "name": "stdout",
          "text": [
            "2023-10-26 05:35:28.457810: E tensorflow/compiler/xla/stream_executor/cuda/cuda_dnn.cc:9342] Unable to register cuDNN factory: Attempting to register factory for plugin cuDNN when one has already been registered\n",
            "2023-10-26 05:35:28.457869: E tensorflow/compiler/xla/stream_executor/cuda/cuda_fft.cc:609] Unable to register cuFFT factory: Attempting to register factory for plugin cuFFT when one has already been registered\n",
            "2023-10-26 05:35:28.457917: E tensorflow/compiler/xla/stream_executor/cuda/cuda_blas.cc:1518] Unable to register cuBLAS factory: Attempting to register factory for plugin cuBLAS when one has already been registered\n",
            "2023-10-26 05:35:30.263126: W tensorflow/compiler/tf2tensorrt/utils/py_utils.cc:38] TF-TRT Warning: Could not find TensorRT\n",
            "Starting individual training: pcm\n",
            "/content/AfriSenti-SemEval-2023/xlmt_finetuning3.py:135: FutureWarning: load_metric is deprecated and will be removed in the next major version of datasets. Use 'evaluate.load' instead, from the new library 🤗 Evaluate: https://huggingface.co/docs/evaluate\n",
            "  metric = load_metric( 'f1') # , 'precision', 'recall', process_id=1\n",
            "{'loss': 0.6559, 'learning_rate': 1.943361188486537e-05, 'epoch': 1.0}\n",
            "{'eval_loss': 0.5867931246757507, 'eval_f1': 0.4924018780454018, 'eval_runtime': 6.3013, 'eval_samples_per_second': 203.29, 'eval_steps_per_second': 6.507, 'epoch': 1.0}\n",
            "{'loss': 0.5126, 'learning_rate': 1.7938718662952648e-05, 'epoch': 2.0}\n",
            "{'eval_loss': 0.5741162300109863, 'eval_f1': 0.49191434070042533, 'eval_runtime': 6.1927, 'eval_samples_per_second': 206.858, 'eval_steps_per_second': 6.621, 'epoch': 2.0}\n",
            "{'loss': 0.4014, 'learning_rate': 1.6443825441039927e-05, 'epoch': 3.0}\n",
            "{'eval_loss': 0.6081599593162537, 'eval_f1': 0.5014138237306892, 'eval_runtime': 6.1558, 'eval_samples_per_second': 208.096, 'eval_steps_per_second': 6.66, 'epoch': 3.0}\n",
            "{'loss': 0.3272, 'learning_rate': 1.4948932219127206e-05, 'epoch': 4.0}\n",
            "{'eval_loss': 0.7028797268867493, 'eval_f1': 0.5021908451763449, 'eval_runtime': 6.1748, 'eval_samples_per_second': 207.458, 'eval_steps_per_second': 6.64, 'epoch': 4.0}\n",
            "{'loss': 0.2696, 'learning_rate': 1.3454038997214485e-05, 'epoch': 5.0}\n",
            "{'eval_loss': 0.7539013624191284, 'eval_f1': 0.49632354617106333, 'eval_runtime': 6.1399, 'eval_samples_per_second': 208.634, 'eval_steps_per_second': 6.678, 'epoch': 5.0}\n",
            "{'loss': 0.2215, 'learning_rate': 1.1959145775301766e-05, 'epoch': 6.0}\n",
            "{'eval_loss': 0.8617395758628845, 'eval_f1': 0.4967263471040552, 'eval_runtime': 6.13, 'eval_samples_per_second': 208.974, 'eval_steps_per_second': 6.688, 'epoch': 6.0}\n",
            "{'loss': 0.1929, 'learning_rate': 1.0464252553389045e-05, 'epoch': 7.0}\n",
            "{'eval_loss': 1.0433845520019531, 'eval_f1': 0.49609511208116813, 'eval_runtime': 6.1282, 'eval_samples_per_second': 209.034, 'eval_steps_per_second': 6.69, 'epoch': 7.0}\n",
            "{'loss': 0.1704, 'learning_rate': 8.969359331476324e-06, 'epoch': 8.0}\n",
            "{'eval_loss': 1.0387159585952759, 'eval_f1': 0.49652274797342494, 'eval_runtime': 6.114, 'eval_samples_per_second': 209.52, 'eval_steps_per_second': 6.706, 'epoch': 8.0}\n",
            "{'loss': 0.1432, 'learning_rate': 7.474466109563603e-06, 'epoch': 9.0}\n",
            "{'eval_loss': 1.1685296297073364, 'eval_f1': 0.5002038832348722, 'eval_runtime': 6.1619, 'eval_samples_per_second': 207.889, 'eval_steps_per_second': 6.654, 'epoch': 9.0}\n",
            "{'loss': 0.1281, 'learning_rate': 5.979572887650883e-06, 'epoch': 10.0}\n",
            "{'eval_loss': 1.1841274499893188, 'eval_f1': 0.49301290081657956, 'eval_runtime': 6.1532, 'eval_samples_per_second': 208.183, 'eval_steps_per_second': 6.663, 'epoch': 10.0}\n",
            "{'loss': 0.1083, 'learning_rate': 4.484679665738162e-06, 'epoch': 11.0}\n",
            "{'eval_loss': 1.2336602210998535, 'eval_f1': 0.49762045841445407, 'eval_runtime': 6.1389, 'eval_samples_per_second': 208.67, 'eval_steps_per_second': 6.679, 'epoch': 11.0}\n",
            "{'loss': 0.0975, 'learning_rate': 2.9897864438254414e-06, 'epoch': 12.0}\n",
            "{'eval_loss': 1.3012460470199585, 'eval_f1': 0.5282328043709632, 'eval_runtime': 6.1497, 'eval_samples_per_second': 208.303, 'eval_steps_per_second': 6.667, 'epoch': 12.0}\n",
            "{'loss': 0.0783, 'learning_rate': 1.4948932219127207e-06, 'epoch': 13.0}\n",
            "{'eval_loss': 1.3592149019241333, 'eval_f1': 0.5200797351516488, 'eval_runtime': 6.1201, 'eval_samples_per_second': 209.311, 'eval_steps_per_second': 6.699, 'epoch': 13.0}\n",
            "{'loss': 0.0725, 'learning_rate': 0.0, 'epoch': 14.0}\n",
            "{'eval_loss': 1.3877350091934204, 'eval_f1': 0.5237297340060894, 'eval_runtime': 6.1225, 'eval_samples_per_second': 209.229, 'eval_steps_per_second': 6.697, 'epoch': 14.0}\n",
            "{'train_runtime': 1594.217, 'train_samples_per_second': 44.971, 'train_steps_per_second': 1.414, 'train_loss': 0.24138351235647804, 'epoch': 14.0}\n",
            "Asking to truncate to max_length but no maximum length is provided and the model has no predefined maximum length. Default to no truncation.\n",
            "{'eval_loss': 1.3012460470199585, 'eval_f1': 0.5282328043709632, 'eval_runtime': 6.0395, 'eval_samples_per_second': 212.102, 'eval_steps_per_second': 6.789, 'epoch': 14.0}\n",
            "Starting individual training: sw\n",
            "{'loss': 0.9201, 'learning_rate': 1.14e-05, 'epoch': 1.0}\n",
            "{'eval_loss': 0.8651954531669617, 'eval_f1': 0.4188517121584486, 'eval_runtime': 1.8867, 'eval_samples_per_second': 240.105, 'eval_steps_per_second': 7.95, 'epoch': 1.0}\n",
            "{'loss': 0.7731, 'learning_rate': 1.9598853868194843e-05, 'epoch': 2.0}\n",
            "{'eval_loss': 0.8417751789093018, 'eval_f1': 0.48500897948134125, 'eval_runtime': 1.8733, 'eval_samples_per_second': 241.818, 'eval_steps_per_second': 8.007, 'epoch': 2.0}\n",
            "{'loss': 0.6685, 'learning_rate': 1.7965616045845272e-05, 'epoch': 3.0}\n",
            "{'eval_loss': 1.0038871765136719, 'eval_f1': 0.44934153131195737, 'eval_runtime': 1.8907, 'eval_samples_per_second': 239.591, 'eval_steps_per_second': 7.933, 'epoch': 3.0}\n",
            "{'loss': 0.5613, 'learning_rate': 1.6332378223495704e-05, 'epoch': 4.0}\n",
            "{'eval_loss': 0.9957002401351929, 'eval_f1': 0.47499471919915504, 'eval_runtime': 1.8717, 'eval_samples_per_second': 242.03, 'eval_steps_per_second': 8.014, 'epoch': 4.0}\n",
            "{'loss': 0.4437, 'learning_rate': 1.4699140401146133e-05, 'epoch': 5.0}\n",
            "{'eval_loss': 1.122604250907898, 'eval_f1': 0.5027034086456837, 'eval_runtime': 1.9017, 'eval_samples_per_second': 238.207, 'eval_steps_per_second': 7.888, 'epoch': 5.0}\n",
            "{'loss': 0.3379, 'learning_rate': 1.3065902578796563e-05, 'epoch': 6.0}\n",
            "{'eval_loss': 1.1945652961730957, 'eval_f1': 0.5119367981796824, 'eval_runtime': 1.9056, 'eval_samples_per_second': 237.72, 'eval_steps_per_second': 7.872, 'epoch': 6.0}\n",
            "{'loss': 0.2578, 'learning_rate': 1.1432664756446991e-05, 'epoch': 7.0}\n",
            "{'eval_loss': 1.3329380750656128, 'eval_f1': 0.4737045473178417, 'eval_runtime': 1.8903, 'eval_samples_per_second': 239.648, 'eval_steps_per_second': 7.935, 'epoch': 7.0}\n",
            "{'loss': 0.209, 'learning_rate': 9.799426934097422e-06, 'epoch': 8.0}\n",
            "{'eval_loss': 1.3593722581863403, 'eval_f1': 0.5034824078061241, 'eval_runtime': 1.8917, 'eval_samples_per_second': 239.463, 'eval_steps_per_second': 7.929, 'epoch': 8.0}\n",
            "{'loss': 0.1798, 'learning_rate': 8.166189111747852e-06, 'epoch': 9.0}\n",
            "{'eval_loss': 1.445237636566162, 'eval_f1': 0.48934209398307466, 'eval_runtime': 1.8892, 'eval_samples_per_second': 239.787, 'eval_steps_per_second': 7.94, 'epoch': 9.0}\n",
            "{'loss': 0.1412, 'learning_rate': 6.5329512893982814e-06, 'epoch': 10.0}\n",
            "{'eval_loss': 1.727867603302002, 'eval_f1': 0.4659485983210451, 'eval_runtime': 1.8871, 'eval_samples_per_second': 240.046, 'eval_steps_per_second': 7.949, 'epoch': 10.0}\n",
            "{'loss': 0.1183, 'learning_rate': 4.899713467048711e-06, 'epoch': 11.0}\n",
            "{'eval_loss': 1.6216561794281006, 'eval_f1': 0.49814929706766525, 'eval_runtime': 1.9071, 'eval_samples_per_second': 237.528, 'eval_steps_per_second': 7.865, 'epoch': 11.0}\n",
            "{'loss': 0.103, 'learning_rate': 3.2664756446991407e-06, 'epoch': 12.0}\n",
            "{'eval_loss': 1.786363124847412, 'eval_f1': 0.48661396560955056, 'eval_runtime': 1.9018, 'eval_samples_per_second': 238.192, 'eval_steps_per_second': 7.887, 'epoch': 12.0}\n",
            "{'loss': 0.0901, 'learning_rate': 1.6332378223495704e-06, 'epoch': 13.0}\n",
            "{'eval_loss': 1.8455910682678223, 'eval_f1': 0.5013419216317767, 'eval_runtime': 1.9092, 'eval_samples_per_second': 237.273, 'eval_steps_per_second': 7.857, 'epoch': 13.0}\n",
            "{'loss': 0.0707, 'learning_rate': 0.0, 'epoch': 14.0}\n",
            "{'eval_loss': 1.8348485231399536, 'eval_f1': 0.49150901386195506, 'eval_runtime': 1.9021, 'eval_samples_per_second': 238.157, 'eval_steps_per_second': 7.886, 'epoch': 14.0}\n",
            "{'train_runtime': 839.2517, 'train_samples_per_second': 30.194, 'train_steps_per_second': 0.951, 'train_loss': 0.34818635727827413, 'epoch': 14.0}\n",
            "{'eval_loss': 1.1945652961730957, 'eval_f1': 0.5119367981796824, 'eval_runtime': 1.7584, 'eval_samples_per_second': 257.628, 'eval_steps_per_second': 8.531, 'epoch': 14.0}\n",
            "Starting individual training: twi\n",
            "{'loss': 0.9939, 'learning_rate': 1.9873772791023845e-05, 'epoch': 1.0}\n",
            "{'eval_loss': 0.9271830916404724, 'eval_f1': 0.3897359032608101, 'eval_runtime': 2.2464, 'eval_samples_per_second': 172.72, 'eval_steps_per_second': 5.787, 'epoch': 1.0}\n",
            "{'loss': 0.8512, 'learning_rate': 1.8345021037868165e-05, 'epoch': 2.0}\n",
            "{'eval_loss': 0.830689549446106, 'eval_f1': 0.442926442926443, 'eval_runtime': 2.2459, 'eval_samples_per_second': 172.757, 'eval_steps_per_second': 5.788, 'epoch': 2.0}\n",
            "{'loss': 0.7199, 'learning_rate': 1.6816269284712482e-05, 'epoch': 3.0}\n",
            "{'eval_loss': 0.8846988677978516, 'eval_f1': 0.5353023063923237, 'eval_runtime': 2.2359, 'eval_samples_per_second': 173.53, 'eval_steps_per_second': 5.814, 'epoch': 3.0}\n",
            "{'loss': 0.5902, 'learning_rate': 1.5287517531556802e-05, 'epoch': 4.0}\n",
            "{'eval_loss': 1.0359448194503784, 'eval_f1': 0.5398095346534967, 'eval_runtime': 2.2496, 'eval_samples_per_second': 172.474, 'eval_steps_per_second': 5.779, 'epoch': 4.0}\n",
            "{'loss': 0.4841, 'learning_rate': 1.3758765778401124e-05, 'epoch': 5.0}\n",
            "{'eval_loss': 0.8602582216262817, 'eval_f1': 0.5881298817632403, 'eval_runtime': 2.2395, 'eval_samples_per_second': 173.25, 'eval_steps_per_second': 5.805, 'epoch': 5.0}\n",
            "{'loss': 0.4201, 'learning_rate': 1.2230014025245442e-05, 'epoch': 6.0}\n",
            "{'eval_loss': 0.9879713654518127, 'eval_f1': 0.5713394080161992, 'eval_runtime': 2.2586, 'eval_samples_per_second': 171.791, 'eval_steps_per_second': 5.756, 'epoch': 6.0}\n",
            "{'loss': 0.3489, 'learning_rate': 1.0701262272089762e-05, 'epoch': 7.0}\n",
            "{'eval_loss': 1.0689741373062134, 'eval_f1': 0.5722979680579606, 'eval_runtime': 2.2359, 'eval_samples_per_second': 173.531, 'eval_steps_per_second': 5.814, 'epoch': 7.0}\n",
            "{'loss': 0.2862, 'learning_rate': 9.172510518934083e-06, 'epoch': 8.0}\n",
            "{'eval_loss': 1.17093825340271, 'eval_f1': 0.573512585812357, 'eval_runtime': 2.2335, 'eval_samples_per_second': 173.716, 'eval_steps_per_second': 5.82, 'epoch': 8.0}\n",
            "{'loss': 0.2451, 'learning_rate': 7.643758765778401e-06, 'epoch': 9.0}\n",
            "{'eval_loss': 1.1880079507827759, 'eval_f1': 0.5838146718146717, 'eval_runtime': 2.2327, 'eval_samples_per_second': 173.781, 'eval_steps_per_second': 5.823, 'epoch': 9.0}\n",
            "{'loss': 0.1925, 'learning_rate': 6.115007012622721e-06, 'epoch': 10.0}\n",
            "{'eval_loss': 1.3800601959228516, 'eval_f1': 0.5629625326211926, 'eval_runtime': 2.2271, 'eval_samples_per_second': 174.221, 'eval_steps_per_second': 5.837, 'epoch': 10.0}\n",
            "{'loss': 0.188, 'learning_rate': 4.586255259467041e-06, 'epoch': 11.0}\n",
            "{'eval_loss': 1.3027318716049194, 'eval_f1': 0.571655599520929, 'eval_runtime': 2.2478, 'eval_samples_per_second': 172.611, 'eval_steps_per_second': 5.783, 'epoch': 11.0}\n",
            "{'loss': 0.1601, 'learning_rate': 3.0575035063113606e-06, 'epoch': 12.0}\n",
            "{'eval_loss': 1.370428204536438, 'eval_f1': 0.5899956843117389, 'eval_runtime': 2.2574, 'eval_samples_per_second': 171.878, 'eval_steps_per_second': 5.759, 'epoch': 12.0}\n",
            "{'loss': 0.148, 'learning_rate': 1.5287517531556803e-06, 'epoch': 13.0}\n",
            "{'eval_loss': 1.4090344905853271, 'eval_f1': 0.5836321117105253, 'eval_runtime': 2.2353, 'eval_samples_per_second': 173.576, 'eval_steps_per_second': 5.816, 'epoch': 13.0}\n",
            "{'loss': 0.1398, 'learning_rate': 0.0, 'epoch': 14.0}\n",
            "{'eval_loss': 1.4248026609420776, 'eval_f1': 0.5878032602192257, 'eval_runtime': 2.2361, 'eval_samples_per_second': 173.517, 'eval_steps_per_second': 5.814, 'epoch': 14.0}\n",
            "{'train_runtime': 1771.9384, 'train_samples_per_second': 27.503, 'train_steps_per_second': 0.861, 'train_loss': 0.41199563402648365, 'epoch': 14.0}\n",
            "{'eval_loss': 1.370428204536438, 'eval_f1': 0.5899956843117389, 'eval_runtime': 2.2716, 'eval_samples_per_second': 170.806, 'eval_steps_per_second': 5.723, 'epoch': 14.0}\n",
            "Starting individual training: dz\n",
            "{'loss': 0.8254, 'learning_rate': 1.04e-05, 'epoch': 1.0}\n",
            "{'eval_loss': 0.7781802415847778, 'eval_f1': 0.5536271891090413, 'eval_runtime': 1.6458, 'eval_samples_per_second': 251.547, 'eval_steps_per_second': 7.899, 'epoch': 1.0}\n",
            "{'loss': 0.6843, 'learning_rate': 1.9872611464968155e-05, 'epoch': 2.0}\n",
            "{'eval_loss': 0.7662490606307983, 'eval_f1': 0.6146798701610635, 'eval_runtime': 1.6733, 'eval_samples_per_second': 247.42, 'eval_steps_per_second': 7.769, 'epoch': 2.0}\n",
            "{'loss': 0.5447, 'learning_rate': 1.821656050955414e-05, 'epoch': 3.0}\n",
            "{'eval_loss': 0.7419496774673462, 'eval_f1': 0.6703097235496088, 'eval_runtime': 1.6554, 'eval_samples_per_second': 250.094, 'eval_steps_per_second': 7.853, 'epoch': 3.0}\n",
            "{'loss': 0.3877, 'learning_rate': 1.6560509554140128e-05, 'epoch': 4.0}\n",
            "{'eval_loss': 0.8801661729812622, 'eval_f1': 0.6466036262361099, 'eval_runtime': 1.6842, 'eval_samples_per_second': 245.816, 'eval_steps_per_second': 7.719, 'epoch': 4.0}\n",
            "{'loss': 0.244, 'learning_rate': 1.4904458598726114e-05, 'epoch': 5.0}\n",
            "{'eval_loss': 0.9435521960258484, 'eval_f1': 0.6518291371574771, 'eval_runtime': 1.6864, 'eval_samples_per_second': 245.487, 'eval_steps_per_second': 7.709, 'epoch': 5.0}\n",
            "{'loss': 0.1687, 'learning_rate': 1.3248407643312102e-05, 'epoch': 6.0}\n",
            "{'eval_loss': 1.1660114526748657, 'eval_f1': 0.6494448065046706, 'eval_runtime': 1.6839, 'eval_samples_per_second': 245.859, 'eval_steps_per_second': 7.72, 'epoch': 6.0}\n",
            "{'loss': 0.1056, 'learning_rate': 1.159235668789809e-05, 'epoch': 7.0}\n",
            "{'eval_loss': 1.257148027420044, 'eval_f1': 0.6580262242376257, 'eval_runtime': 1.6761, 'eval_samples_per_second': 247.002, 'eval_steps_per_second': 7.756, 'epoch': 7.0}\n",
            "{'loss': 0.0878, 'learning_rate': 9.936305732484078e-06, 'epoch': 8.0}\n",
            "{'eval_loss': 1.5046874284744263, 'eval_f1': 0.6444062330436909, 'eval_runtime': 1.5933, 'eval_samples_per_second': 259.832, 'eval_steps_per_second': 8.159, 'epoch': 8.0}\n",
            "{'loss': 0.0615, 'learning_rate': 8.280254777070064e-06, 'epoch': 9.0}\n",
            "{'eval_loss': 1.6360347270965576, 'eval_f1': 0.6441655966061473, 'eval_runtime': 1.5403, 'eval_samples_per_second': 268.779, 'eval_steps_per_second': 8.44, 'epoch': 9.0}\n",
            "{'loss': 0.0428, 'learning_rate': 6.624203821656051e-06, 'epoch': 10.0}\n",
            "{'eval_loss': 1.7927252054214478, 'eval_f1': 0.6411625711638784, 'eval_runtime': 1.5478, 'eval_samples_per_second': 267.468, 'eval_steps_per_second': 8.399, 'epoch': 10.0}\n",
            "{'loss': 0.036, 'learning_rate': 4.968152866242039e-06, 'epoch': 11.0}\n",
            "{'eval_loss': 1.8167396783828735, 'eval_f1': 0.6480190545733092, 'eval_runtime': 1.5315, 'eval_samples_per_second': 270.319, 'eval_steps_per_second': 8.488, 'epoch': 11.0}\n",
            "{'loss': 0.0268, 'learning_rate': 3.3121019108280255e-06, 'epoch': 12.0}\n",
            "{'eval_loss': 1.8607027530670166, 'eval_f1': 0.6542648756205176, 'eval_runtime': 1.5247, 'eval_samples_per_second': 271.537, 'eval_steps_per_second': 8.527, 'epoch': 12.0}\n",
            "{'loss': 0.0174, 'learning_rate': 1.6560509554140127e-06, 'epoch': 13.0}\n",
            "{'eval_loss': 1.891026258468628, 'eval_f1': 0.6560901437413365, 'eval_runtime': 1.5192, 'eval_samples_per_second': 272.509, 'eval_steps_per_second': 8.557, 'epoch': 13.0}\n",
            "{'loss': 0.0188, 'learning_rate': 0.0, 'epoch': 14.0}\n",
            "{'eval_loss': 1.8972913026809692, 'eval_f1': 0.6562781725992213, 'eval_runtime': 1.5247, 'eval_samples_per_second': 271.536, 'eval_steps_per_second': 8.526, 'epoch': 14.0}\n",
            "{'train_runtime': 817.5763, 'train_samples_per_second': 28.271, 'train_steps_per_second': 0.89, 'train_loss': 0.2322438616346527, 'epoch': 14.0}\n",
            "{'eval_loss': 0.7419496774673462, 'eval_f1': 0.6703097235496088, 'eval_runtime': 1.5156, 'eval_samples_per_second': 273.16, 'eval_steps_per_second': 8.577, 'epoch': 14.0}\n",
            "Starting individual training: ha\n",
            "{'loss': 0.74, 'learning_rate': 1.8875778433300558e-05, 'epoch': 1.0}\n",
            "{'eval_loss': 0.6574081182479858, 'eval_f1': 0.7130476613301594, 'eval_runtime': 15.7669, 'eval_samples_per_second': 169.786, 'eval_steps_per_second': 5.328, 'epoch': 1.0}\n",
            "{'loss': 0.5742, 'learning_rate': 1.7423795476892824e-05, 'epoch': 2.0}\n",
            "{'eval_loss': 0.624606728553772, 'eval_f1': 0.7537990514819765, 'eval_runtime': 15.8417, 'eval_samples_per_second': 168.985, 'eval_steps_per_second': 5.302, 'epoch': 2.0}\n",
            "{'loss': 0.468, 'learning_rate': 1.5971812520485088e-05, 'epoch': 3.0}\n",
            "{'eval_loss': 0.5901365280151367, 'eval_f1': 0.7723345561954318, 'eval_runtime': 15.7567, 'eval_samples_per_second': 169.895, 'eval_steps_per_second': 5.331, 'epoch': 3.0}\n",
            "{'loss': 0.3634, 'learning_rate': 1.4519829564077353e-05, 'epoch': 4.0}\n",
            "{'eval_loss': 0.7120545506477356, 'eval_f1': 0.7550501399178348, 'eval_runtime': 15.8446, 'eval_samples_per_second': 168.953, 'eval_steps_per_second': 5.301, 'epoch': 4.0}\n",
            "{'loss': 0.2862, 'learning_rate': 1.3067846607669618e-05, 'epoch': 5.0}\n",
            "{'eval_loss': 0.7104697823524475, 'eval_f1': 0.7783173456714793, 'eval_runtime': 15.7808, 'eval_samples_per_second': 169.637, 'eval_steps_per_second': 5.323, 'epoch': 5.0}\n",
            "{'loss': 0.221, 'learning_rate': 1.1615863651261884e-05, 'epoch': 6.0}\n",
            "{'eval_loss': 0.814394474029541, 'eval_f1': 0.7747595975362963, 'eval_runtime': 15.7875, 'eval_samples_per_second': 169.565, 'eval_steps_per_second': 5.321, 'epoch': 6.0}\n",
            "Traceback (most recent call last):\n",
            "  File \"/content/AfriSenti-SemEval-2023/xlmt_finetuning3.py\", line 335, in <module>\n",
            "    results = train_individual(model= \"cardiffnlp/twitter-xlm-roberta-base-sentiment\", \n",
            "  File \"/content/AfriSenti-SemEval-2023/xlmt_finetuning3.py\", line 208, in train_individual\n",
            "    trainer = trainme( dataset_dict, finetune = True, training_args = training_args)\n",
            "  File \"/content/AfriSenti-SemEval-2023/xlmt_finetuning3.py\", line 173, in trainme\n",
            "    train_results = trainer.train()\n",
            "  File \"/usr/local/lib/python3.10/dist-packages/transformers/trainer.py\", line 1591, in train\n",
            "    return inner_training_loop(\n",
            "  File \"/usr/local/lib/python3.10/dist-packages/transformers/trainer.py\", line 1892, in _inner_training_loop\n",
            "    tr_loss_step = self.training_step(model, inputs)\n",
            "  File \"/usr/local/lib/python3.10/dist-packages/transformers/trainer.py\", line 2787, in training_step\n",
            "    self.accelerator.backward(loss)\n",
            "  File \"/usr/local/lib/python3.10/dist-packages/accelerate/accelerator.py\", line 1989, in backward\n",
            "    loss.backward(**kwargs)\n",
            "  File \"/usr/local/lib/python3.10/dist-packages/torch/_tensor.py\", line 492, in backward\n",
            "    torch.autograd.backward(\n",
            "  File \"/usr/local/lib/python3.10/dist-packages/torch/autograd/__init__.py\", line 251, in backward\n",
            "    Variable._execution_engine.run_backward(  # Calls into the C++ engine to run the backward pass\n",
            "KeyboardInterrupt\n"
          ]
        }
      ]
    },
    {
      "cell_type": "code",
      "source": [],
      "metadata": {
        "id": "evlgSpHS0rhX"
      },
      "execution_count": null,
      "outputs": []
    }
  ],
  "metadata": {
    "accelerator": "GPU",
    "colab": {
      "collapsed_sections": [
        "DObkW3ulM7yg"
      ],
      "provenance": []
    },
    "kernelspec": {
      "display_name": "Python 3.9.12",
      "language": "python",
      "name": "python3"
    },
    "language_info": {
      "name": "python",
      "version": "3.9.12"
    },
    "vscode": {
      "interpreter": {
        "hash": "d203a7fbe37afbb990fedfc21c321928443618f3d7b991e0237ff71906aa031f"
      }
    }
  },
  "nbformat": 4,
  "nbformat_minor": 0
}